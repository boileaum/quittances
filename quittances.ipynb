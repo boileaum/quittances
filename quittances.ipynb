{
 "cells": [
  {
   "cell_type": "markdown",
   "metadata": {},
   "source": [
    "# Générateur de quittances de loyer\n",
    "\n",
    "Utiliser le bouton `Run` pour exécuter pas à pas"
   ]
  },
  {
   "cell_type": "code",
   "execution_count": null,
   "metadata": {},
   "outputs": [],
   "source": [
    "from IPython.display import FileLink, FileLinks\n",
    "from quittances import generate_quittance, make_zip, read_yaml, check_input"
   ]
  },
  {
   "cell_type": "markdown",
   "metadata": {},
   "source": [
    "Editer la chaîne de caractères ci-dessous sans modifier le nom des paramètres (s'inspirer des lignes commentées)."
   ]
  },
  {
   "cell_type": "code",
   "execution_count": null,
   "metadata": {},
   "outputs": [],
   "source": [
    "#yaml_dict = \"\"\"\n",
    "#address_street: 55 Rue du Faubourg Saint-Honoré\n",
    "#address_city: 75008 Paris\n",
    "#landlord: Edouard Philippe\n",
    "#landlord_street: 52 rue de la Thur\n",
    "#landlord_city: 29242 Ouessant\n",
    "#tenants: Emmanuel, Brigitte Macron\n",
    "#total_amount_letters: Quatre cent quatre-vingt dix-neuf euros quatre vingt dix-neuf centimes\n",
    "#rent: 449,99\n",
    "#charges: 50\n",
    "#first_date: 08 2015\n",
    "#last_date: 10 2017\n",
    "#sign_city: Paris\n",
    "#sign_date: 17 novembre 2017\n",
    "#\"\"\"\n",
    "# Note: si \"sign_date\" n'est pas renseigné, la date de signature est fixée à aujourd'hui.\n",
    "\n",
    "yaml_dict = \"\"\"\n",
    "address_street: 55 Rue du Faubourg Saint-Honoré\n",
    "address_city: 75008 Paris\n",
    "landlord: Edouard Philippe\n",
    "landlord_street: 52 rue de la Thur\n",
    "landlord_city: 29242 Ouessant\n",
    "tenants: Emmanuel, Brigitte Macron\n",
    "total_amount_letters: Quatre cent quatre-vingt dix-neuf euros quatre vingt dix-neuf centimes\n",
    "rent: 449.99\n",
    "charges: 50\n",
    "first_date: 08 2015\n",
    "last_date: 10 2017\n",
    "sign_city: Paris\n",
    "\"\"\""
   ]
  },
  {
   "cell_type": "markdown",
   "metadata": {},
   "source": [
    "Charger la chaîne de caractères comme un dictionnaire python, vérifier sa conformité, l'afficher"
   ]
  },
  {
   "cell_type": "code",
   "execution_count": null,
   "metadata": {},
   "outputs": [],
   "source": [
    "import yaml\n",
    "input_dict = yaml.load(yaml_dict)\n",
    "check_input(input_dict)\n",
    "for k, v in input_dict.items():\n",
    "    print(\"{:<21} {:<10}\".format(k, v))"
   ]
  },
  {
   "cell_type": "markdown",
   "metadata": {},
   "source": [
    "Lancer la génération des quittances. Attendre la fin de la génération puis télécharger l'archive en cliquant sur le lien généré."
   ]
  },
  {
   "cell_type": "code",
   "execution_count": null,
   "metadata": {},
   "outputs": [],
   "source": [
    "generate_quittance(input_dict)\n",
    "make_zip()\n",
    "FileLink('quittances.zip')"
   ]
  }
 ],
 "metadata": {
  "kernelspec": {
   "display_name": "Python 3",
   "language": "python",
   "name": "python3"
  },
  "language_info": {
   "codemirror_mode": {
    "name": "ipython",
    "version": 3
   },
   "file_extension": ".py",
   "mimetype": "text/x-python",
   "name": "python",
   "nbconvert_exporter": "python",
   "pygments_lexer": "ipython3",
   "version": "3.6.2"
  }
 },
 "nbformat": 4,
 "nbformat_minor": 2
}
